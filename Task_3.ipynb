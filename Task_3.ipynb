{
 "cells": [
  {
   "cell_type": "code",
   "execution_count": 1,
   "id": "59ec5f99",
   "metadata": {},
   "outputs": [],
   "source": [
    "# Ans1.) \n",
    "\n",
    "class Vehicle:\n",
    "    def __init__(self, name_of_vehicle, max_speed, average_of_vehicle):\n",
    "        self.name_of_vehicle = name_of_vehicle\n",
    "        self.max_speed = max_speed\n",
    "        self.average_of_vehicle = average_of_vehicle\n"
   ]
  },
  {
   "cell_type": "code",
   "execution_count": 2,
   "id": "5f63c890",
   "metadata": {},
   "outputs": [],
   "source": [
    "#Ans2.)\n",
    "\n",
    "class Car(Vehicle):\n",
    "    def seating_capacity(self, capacity):\n",
    "        return f\"The {self.name_of_vehicle} has a seating capacity of {capacity} passengers.\"\n"
   ]
  },
  {
   "cell_type": "code",
   "execution_count": null,
   "id": "75c0e1e7",
   "metadata": {},
   "outputs": [],
   "source": []
  },
  {
   "cell_type": "markdown",
   "id": "291c8d00",
   "metadata": {},
   "source": [
    "Multiple inheritance is a feature of some object-oriented programming languages where a class can inherit attributes and methods from more than one parent class. Here's a demonstration of multiple inheritance"
   ]
  },
  {
   "cell_type": "code",
   "execution_count": 3,
   "id": "22f9a3fc",
   "metadata": {},
   "outputs": [
    {
     "name": "stdout",
     "output_type": "stream",
     "text": [
      "Method A from class A\n",
      "Method B from class B\n",
      "Method C from class C\n"
     ]
    }
   ],
   "source": [
    "#Ans3.) \n",
    "\n",
    "class A:\n",
    "    def method_A(self):\n",
    "        print(\"Method A from class A\")\n",
    "\n",
    "class B:\n",
    "    def method_B(self):\n",
    "        print(\"Method B from class B\")\n",
    "\n",
    "class C(A, B):\n",
    "    def method_C(self):\n",
    "        print(\"Method C from class C\")\n",
    "\n",
    "obj = C()\n",
    "obj.method_A()  # Output: Method A from class A\n",
    "obj.method_B()  # Output: Method B from class B\n",
    "obj.method_C()  # Output: Method C from class C\n"
   ]
  },
  {
   "cell_type": "code",
   "execution_count": null,
   "id": "fd8f7769",
   "metadata": {},
   "outputs": [],
   "source": []
  },
  {
   "cell_type": "markdown",
   "id": "b31e9356",
   "metadata": {},
   "source": [
    "#Ans4.) \n",
    "\n",
    "Getter and setter methods are used to access and modify the private attributes of a class respectively"
   ]
  },
  {
   "cell_type": "code",
   "execution_count": 4,
   "id": "3fdda6cd",
   "metadata": {},
   "outputs": [
    {
     "name": "stdout",
     "output_type": "stream",
     "text": [
      "0\n",
      "10\n"
     ]
    }
   ],
   "source": [
    "class Example:\n",
    "    def __init__(self):\n",
    "        self._value = 0\n",
    "\n",
    "    def get_value(self):\n",
    "        return self._value\n",
    "\n",
    "    def set_value(self, value):\n",
    "        self._value = value\n",
    "\n",
    "obj = Example()\n",
    "print(obj.get_value())  # Output: 0\n",
    "obj.set_value(10)\n",
    "print(obj.get_value())  # Output: 10\n"
   ]
  },
  {
   "cell_type": "code",
   "execution_count": null,
   "id": "00bd8d81",
   "metadata": {},
   "outputs": [],
   "source": []
  },
  {
   "cell_type": "markdown",
   "id": "676fcbdf",
   "metadata": {},
   "source": [
    "#Ans5.)\n",
    "\n",
    "Method overriding occurs when a subclass provides a specific implementation of a method that is already defined in its superclass"
   ]
  },
  {
   "cell_type": "code",
   "execution_count": 5,
   "id": "fa848e53",
   "metadata": {},
   "outputs": [
    {
     "name": "stdout",
     "output_type": "stream",
     "text": [
      "This is the display method of the child class\n"
     ]
    }
   ],
   "source": [
    "class Parent:\n",
    "    def display(self):\n",
    "        print(\"This is the display method of the parent class\")\n",
    "\n",
    "class Child(Parent):\n",
    "    def display(self):\n",
    "        print(\"This is the display method of the child class\")\n",
    "\n",
    "child_obj = Child()\n",
    "child_obj.display()  # Output: This is the display method of the child class\n"
   ]
  },
  {
   "cell_type": "code",
   "execution_count": null,
   "id": "6089fb29",
   "metadata": {},
   "outputs": [],
   "source": []
  }
 ],
 "metadata": {
  "kernelspec": {
   "display_name": "Python 3 (ipykernel)",
   "language": "python",
   "name": "python3"
  },
  "language_info": {
   "codemirror_mode": {
    "name": "ipython",
    "version": 3
   },
   "file_extension": ".py",
   "mimetype": "text/x-python",
   "name": "python",
   "nbconvert_exporter": "python",
   "pygments_lexer": "ipython3",
   "version": "3.11.4"
  }
 },
 "nbformat": 4,
 "nbformat_minor": 5
}
